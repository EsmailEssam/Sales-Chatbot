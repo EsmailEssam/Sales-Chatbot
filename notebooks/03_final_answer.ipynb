{
 "cells": [
  {
   "cell_type": "code",
   "execution_count": 13,
   "metadata": {},
   "outputs": [],
   "source": [
    "from crewai import Agent, Task, Crew, Process, LLM\n",
    "from Config import basic_llm\n",
    "import os\n",
    "from dotenv import load_dotenv"
   ]
  },
  {
   "cell_type": "code",
   "execution_count": 8,
   "metadata": {},
   "outputs": [
    {
     "name": "stdout",
     "output_type": "stream",
     "text": [
      "<crewai.llm.LLM object at 0x000002988460F4A0>\n"
     ]
    }
   ],
   "source": [
    "print(basic_llm)"
   ]
  },
  {
   "cell_type": "code",
   "execution_count": 2,
   "metadata": {},
   "outputs": [],
   "source": [
    "user_input = \"who is the president of Egypt\""
   ]
  },
  {
   "cell_type": "code",
   "execution_count": 18,
   "metadata": {},
   "outputs": [],
   "source": [
    "# Load the Key token\n",
    "_ = load_dotenv(override=True)\n",
    "GEMINI_API_KEY = os.getenv('GEMINI_API_KEY')\n",
    "\n",
    "basic_llm = LLM(model='gemini/gemini-2.0-flash', temperature=0)"
   ]
  },
  {
   "cell_type": "code",
   "execution_count": 26,
   "metadata": {},
   "outputs": [],
   "source": [
    "final_answer_agent = Agent(\n",
    "  role= \"Final Answer Agent\",\n",
    "  goal= \"To answer the user's question\",\n",
    "  backstory= \"I am the final answer agent, I am responsible for answering the user's question\",\n",
    "  llm= basic_llm,\n",
    "  )\n",
    "\n",
    "final_answer_task = Task(\n",
    "  description= \"Answer the user's question: {user_input}\",\n",
    "  expected_output= \"The answer to the user's question\",\n",
    "  agent= final_answer_agent,\n",
    ")"
   ]
  },
  {
   "cell_type": "code",
   "execution_count": 27,
   "metadata": {},
   "outputs": [
    {
     "name": "stderr",
     "output_type": "stream",
     "text": [
      "Overriding of current TracerProvider is not allowed\n"
     ]
    }
   ],
   "source": [
    "ai_crew = Crew(\n",
    "    agents=[\n",
    "      final_answer_agent\n",
    "    ],\n",
    "    tasks=[\n",
    "      final_answer_task\n",
    "    ],\n",
    "    process=Process.sequential,\n",
    ")"
   ]
  },
  {
   "cell_type": "code",
   "execution_count": 33,
   "metadata": {},
   "outputs": [
    {
     "name": "stderr",
     "output_type": "stream",
     "text": [
      "🖇 AgentOps: Could not end session - no sessions detected\n"
     ]
    }
   ],
   "source": [
    "result = ai_crew.kickoff(inputs={\n",
    "  'user_input': user_input\n",
    "})"
   ]
  },
  {
   "cell_type": "code",
   "execution_count": 35,
   "metadata": {},
   "outputs": [
    {
     "data": {
      "text/plain": [
       "'The current president of Egypt is Abdel Fattah el-Sisi.'"
      ]
     },
     "execution_count": 35,
     "metadata": {},
     "output_type": "execute_result"
    }
   ],
   "source": [
    "result.raw"
   ]
  },
  {
   "cell_type": "code",
   "execution_count": null,
   "metadata": {},
   "outputs": [],
   "source": []
  }
 ],
 "metadata": {
  "kernelspec": {
   "display_name": "sales",
   "language": "python",
   "name": "python3"
  },
  "language_info": {
   "codemirror_mode": {
    "name": "ipython",
    "version": 3
   },
   "file_extension": ".py",
   "mimetype": "text/x-python",
   "name": "python",
   "nbconvert_exporter": "python",
   "pygments_lexer": "ipython3",
   "version": "3.12.0"
  }
 },
 "nbformat": 4,
 "nbformat_minor": 2
}
