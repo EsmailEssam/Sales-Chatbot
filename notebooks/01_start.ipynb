{
 "cells": [
  {
   "cell_type": "code",
   "execution_count": 1,
   "metadata": {},
   "outputs": [],
   "source": [
    "import pandas as pd"
   ]
  },
  {
   "cell_type": "code",
   "execution_count": 6,
   "metadata": {},
   "outputs": [
    {
     "name": "stderr",
     "output_type": "stream",
     "text": [
      "C:\\Users\\DELL\\AppData\\Local\\Temp\\ipykernel_27976\\3697865996.py:1: DtypeWarning: Columns (3) have mixed types. Specify dtype option on import or set low_memory=False.\n",
      "  df = pd.read_csv(r'D:\\Electro Pi\\Sales-Chatbot\\Dataset\\Books.csv')\n"
     ]
    }
   ],
   "source": [
    "df = pd.read_csv(r'D:\\Electro Pi\\Sales-Chatbot\\Dataset\\Books.csv')"
   ]
  },
  {
   "cell_type": "code",
   "execution_count": 8,
   "metadata": {},
   "outputs": [
    {
     "name": "stdout",
     "output_type": "stream",
     "text": [
      "<class 'pandas.core.frame.DataFrame'>\n",
      "RangeIndex: 271360 entries, 0 to 271359\n",
      "Data columns (total 8 columns):\n",
      " #   Column               Non-Null Count   Dtype \n",
      "---  ------               --------------   ----- \n",
      " 0   ISBN                 271360 non-null  object\n",
      " 1   Book-Title           271360 non-null  object\n",
      " 2   Book-Author          271358 non-null  object\n",
      " 3   Year-Of-Publication  271360 non-null  object\n",
      " 4   Publisher            271358 non-null  object\n",
      " 5   Image-URL-S          271360 non-null  object\n",
      " 6   Image-URL-M          271360 non-null  object\n",
      " 7   Image-URL-L          271357 non-null  object\n",
      "dtypes: object(8)\n",
      "memory usage: 16.6+ MB\n"
     ]
    }
   ],
   "source": [
    "df.info()"
   ]
  },
  {
   "cell_type": "code",
   "execution_count": 9,
   "metadata": {},
   "outputs": [
    {
     "name": "stdout",
     "output_type": "stream",
     "text": [
      "         ISBN                                         Book-Title  \\\n",
      "0  0195153448                                Classical Mythology   \n",
      "1  0002005018                                       Clara Callan   \n",
      "2  0060973129                               Decision in Normandy   \n",
      "3  0374157065  Flu: The Story of the Great Influenza Pandemic...   \n",
      "4  0393045218                             The Mummies of Urumchi   \n",
      "\n",
      "            Book-Author Year-Of-Publication                   Publisher  \\\n",
      "0    Mark P. O. Morford                2002     Oxford University Press   \n",
      "1  Richard Bruce Wright                2001       HarperFlamingo Canada   \n",
      "2          Carlo D'Este                1991             HarperPerennial   \n",
      "3      Gina Bari Kolata                1999        Farrar Straus Giroux   \n",
      "4       E. J. W. Barber                1999  W. W. Norton &amp; Company   \n",
      "\n",
      "                                         Image-URL-S  \\\n",
      "0  http://images.amazon.com/images/P/0195153448.0...   \n",
      "1  http://images.amazon.com/images/P/0002005018.0...   \n",
      "2  http://images.amazon.com/images/P/0060973129.0...   \n",
      "3  http://images.amazon.com/images/P/0374157065.0...   \n",
      "4  http://images.amazon.com/images/P/0393045218.0...   \n",
      "\n",
      "                                         Image-URL-M  \\\n",
      "0  http://images.amazon.com/images/P/0195153448.0...   \n",
      "1  http://images.amazon.com/images/P/0002005018.0...   \n",
      "2  http://images.amazon.com/images/P/0060973129.0...   \n",
      "3  http://images.amazon.com/images/P/0374157065.0...   \n",
      "4  http://images.amazon.com/images/P/0393045218.0...   \n",
      "\n",
      "                                         Image-URL-L   price  \\\n",
      "0  http://images.amazon.com/images/P/0195153448.0...   78.04   \n",
      "1  http://images.amazon.com/images/P/0002005018.0...  190.39   \n",
      "2  http://images.amazon.com/images/P/0060973129.0...  147.74   \n",
      "3  http://images.amazon.com/images/P/0374157065.0...  121.74   \n",
      "4  http://images.amazon.com/images/P/0393045218.0...   35.42   \n",
      "\n",
      "   discount_percentage  price_after_discount  \n",
      "0                    0                 78.04  \n",
      "1                   16                159.93  \n",
      "2                    0                147.74  \n",
      "3                    0                121.74  \n",
      "4                    0                 35.42  \n"
     ]
    }
   ],
   "source": [
    "import pandas as pd\n",
    "import numpy as np\n",
    "\n",
    "# Assuming df is your DataFrame\n",
    "np.random.seed(42)  # For reproducibility\n",
    "\n",
    "# Generate random prices between 5 and 200\n",
    "df[\"price\"] = np.random.uniform(5, 200, size=len(df)).round(2)\n",
    "\n",
    "# Assign a random discount (0% for some products)\n",
    "df[\"discount_percentage\"] = np.where(np.random.rand(len(df)) < 0.3,  # 30% of products have a discount\n",
    "                                     np.random.randint(5, 51, size=len(df)),  # Discount between 5% and 50%\n",
    "                                     0)  # No discount for others\n",
    "\n",
    "# Calculate price after discount\n",
    "df[\"price_after_discount\"] = (df[\"price\"] * (1 - df[\"discount_percentage\"] / 100)).round(2)\n",
    "\n",
    "# Display first few rows\n",
    "print(df.head())\n"
   ]
  },
  {
   "cell_type": "code",
   "execution_count": 11,
   "metadata": {},
   "outputs": [
    {
     "name": "stdout",
     "output_type": "stream",
     "text": [
      "<class 'pandas.core.frame.DataFrame'>\n",
      "RangeIndex: 271360 entries, 0 to 271359\n",
      "Data columns (total 11 columns):\n",
      " #   Column                Non-Null Count   Dtype  \n",
      "---  ------                --------------   -----  \n",
      " 0   ISBN                  271360 non-null  object \n",
      " 1   Book-Title            271360 non-null  object \n",
      " 2   Book-Author           271358 non-null  object \n",
      " 3   Year-Of-Publication   271360 non-null  object \n",
      " 4   Publisher             271358 non-null  object \n",
      " 5   Image-URL-S           271360 non-null  object \n",
      " 6   Image-URL-M           271360 non-null  object \n",
      " 7   Image-URL-L           271357 non-null  object \n",
      " 8   price                 271360 non-null  float64\n",
      " 9   discount_percentage   271360 non-null  int32  \n",
      " 10  price_after_discount  271360 non-null  float64\n",
      "dtypes: float64(2), int32(1), object(8)\n",
      "memory usage: 21.7+ MB\n"
     ]
    }
   ],
   "source": [
    "df.info()"
   ]
  },
  {
   "cell_type": "code",
   "execution_count": 13,
   "metadata": {},
   "outputs": [],
   "source": [
    "df = df.iloc[:10000]"
   ]
  },
  {
   "cell_type": "code",
   "execution_count": 14,
   "metadata": {},
   "outputs": [],
   "source": [
    "df.to_csv(r'D:\\Electro Pi\\Sales-Chatbot\\Dataset\\Books2.csv')"
   ]
  },
  {
   "cell_type": "code",
   "execution_count": null,
   "metadata": {},
   "outputs": [],
   "source": []
  }
 ],
 "metadata": {
  "kernelspec": {
   "display_name": "base",
   "language": "python",
   "name": "python3"
  },
  "language_info": {
   "codemirror_mode": {
    "name": "ipython",
    "version": 3
   },
   "file_extension": ".py",
   "mimetype": "text/x-python",
   "name": "python",
   "nbconvert_exporter": "python",
   "pygments_lexer": "ipython3",
   "version": "3.12.4"
  }
 },
 "nbformat": 4,
 "nbformat_minor": 2
}
